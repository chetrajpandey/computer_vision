{
 "cells": [
  {
   "cell_type": "markdown",
   "id": "2ea773dc",
   "metadata": {},
   "source": [
    "# Part A --Intrinsic and Extrinsic Parameter"
   ]
  },
  {
   "cell_type": "markdown",
   "id": "1c82a04b",
   "metadata": {},
   "source": [
    "![title](hw1_2.jpg)\n",
    "![title](hw1_1.jpg)"
   ]
  },
  {
   "cell_type": "markdown",
   "id": "1d332f0f",
   "metadata": {},
   "source": [
    "# Steps shown below: Computed Using Python"
   ]
  },
  {
   "cell_type": "code",
   "execution_count": 19,
   "id": "dda0c2ff",
   "metadata": {
    "id": "dda0c2ff"
   },
   "outputs": [],
   "source": [
    "import numpy as np\n",
    "\n",
    "import pytransform3d.rotations as pr\n",
    "from pytransform3d.plot_utils import plot_vector"
   ]
  },
  {
   "cell_type": "code",
   "execution_count": 20,
   "id": "a06a71f6",
   "metadata": {
    "id": "a06a71f6"
   },
   "outputs": [],
   "source": [
    "origin = np.array([0, 0, 0])\n",
    "\n",
    "# basis vectors\n",
    "x = np.array([1, 0, 0])\n",
    "y = np.array([0, 1, 0])\n",
    "z = np.array([0, 0, 1])\n",
    "\n",
    "# basis vectors as homogeneous coordinates\n",
    "xh = np.array([1, 0, 0, 1])\n",
    "yh = np.array([0, 1, 0, 1])\n",
    "zh = np.array([0, 0, 1, 1])"
   ]
  },
  {
   "cell_type": "code",
   "execution_count": 21,
   "id": "b3d44009",
   "metadata": {
    "id": "b3d44009"
   },
   "outputs": [],
   "source": [
    "# Get transformation matrix\n",
    "def get_rot_x(angle):\n",
    "    '''\n",
    "    transformation matrix that rotates a point about the standard X axis\n",
    "    '''\n",
    "    Rx = np.zeros(shape=(3, 3))\n",
    "    Rx[0, 0] = 1\n",
    "    Rx[1, 1] = np.cos(angle)\n",
    "    Rx[1, 2] = -np.sin(angle)\n",
    "    Rx[2, 1] = np.sin(angle)\n",
    "    Rx[2, 2] = np.cos(angle)\n",
    "    \n",
    "    return Rx\n",
    "\n",
    "def get_rot_y(angle):\n",
    "    Ry = np.zeros(shape=(3, 3))\n",
    "    Ry[0, 0] = np.cos(angle)\n",
    "    Ry[0, 2] = -np.sin(angle)\n",
    "    Ry[2, 0] = np.sin(angle)\n",
    "    Ry[2, 2] = np.cos(angle)\n",
    "    Ry[1, 1] = 1\n",
    "    \n",
    "    return Ry\n",
    "\n",
    "def get_rot_z(angle):\n",
    "    Rz = np.zeros(shape=(3, 3))\n",
    "    Rz[0, 0] = np.cos(angle)\n",
    "    Rz[0, 1] = -np.sin(angle)\n",
    "    Rz[1, 0] = np.sin(angle)\n",
    "    Rz[1, 1] = np.cos(angle)\n",
    "    Rz[2, 2] = 1\n",
    "    \n",
    "    return Rz"
   ]
  },
  {
   "cell_type": "code",
   "execution_count": 22,
   "id": "328fbe3a",
   "metadata": {
    "id": "328fbe3a"
   },
   "outputs": [],
   "source": [
    "def create_rotation_transformation_matrix(angles, order):\n",
    "    fn_mapping = {'x': get_rot_x, 'y': get_rot_y, 'z': get_rot_z}\n",
    "    net = np.identity(3)\n",
    "    for angle, axis in list(zip(angles, order))[::-1]:\n",
    "        if fn_mapping.get(axis) is None:\n",
    "            raise ValueError(\"Invalid axis\")\n",
    "        R = fn_mapping.get(axis)\n",
    "        net = np.matmul(net, R(angle))\n",
    "        \n",
    "    return net\n",
    "\n",
    "def create_translation_matrix(offset):\n",
    "    T = np.identity(4)\n",
    "    T[:3, 3] = offset\n",
    "    return T"
   ]
  },
  {
   "cell_type": "code",
   "execution_count": 23,
   "id": "18666583",
   "metadata": {
    "id": "18666583"
   },
   "outputs": [],
   "source": [
    "R = create_rotation_transformation_matrix([np.pi/6], 'y')\n",
    "R_ = np.identity(4)\n",
    "R_[:3, :3] = R\n",
    "\n",
    "# create translation transformation matrix\n",
    "T_ = create_translation_matrix(np.array([0, 28, 0]))"
   ]
  },
  {
   "cell_type": "code",
   "execution_count": 24,
   "id": "6e539f14",
   "metadata": {
    "id": "6e539f14",
    "outputId": "4364e933-7783-4578-91f8-2604dc42eaa1"
   },
   "outputs": [
    {
     "data": {
      "text/plain": [
       "(array([[ 0.8660254,  0.       , -0.5      ,  0.       ],\n",
       "        [ 0.       ,  1.       ,  0.       ,  0.       ],\n",
       "        [ 0.5      ,  0.       ,  0.8660254,  0.       ],\n",
       "        [ 0.       ,  0.       ,  0.       ,  1.       ]]),\n",
       " array([[ 1.,  0.,  0.,  0.],\n",
       "        [ 0.,  1.,  0., 28.],\n",
       "        [ 0.,  0.,  1.,  0.],\n",
       "        [ 0.,  0.,  0.,  1.]]))"
      ]
     },
     "execution_count": 24,
     "metadata": {},
     "output_type": "execute_result"
    }
   ],
   "source": [
    "R_, T_"
   ]
  },
  {
   "cell_type": "code",
   "execution_count": 25,
   "id": "6ba044f8",
   "metadata": {
    "id": "6ba044f8"
   },
   "outputs": [],
   "source": [
    "def compute_intrinsic_parameter_matrix(f, s, a, cx, cy):\n",
    "    K = np.identity(3)\n",
    "    K[0, 0] = f\n",
    "    K[0, 1] = s\n",
    "    K[0, 2] = cx\n",
    "    K[1, 1] = a * f\n",
    "    K[1, 2] = cy\n",
    "    \n",
    "    return K"
   ]
  },
  {
   "cell_type": "code",
   "execution_count": 26,
   "id": "7bff7595",
   "metadata": {
    "id": "7bff7595",
    "outputId": "ae2fa5d6-8724-4b17-a202-c75ce49e2e2d"
   },
   "outputs": [
    {
     "data": {
      "text/plain": [
       "array([[ 3.37,  0.  ,  0.  ],\n",
       "       [ 0.  ,  3.37, 28.  ],\n",
       "       [ 0.  ,  0.  ,  1.  ]])"
      ]
     },
     "execution_count": 26,
     "metadata": {},
     "output_type": "execute_result"
    }
   ],
   "source": [
    "intrinsic_matrix = compute_intrinsic_parameter_matrix(3.37,0,1,0,28)\n",
    "intrinsic_matrix"
   ]
  },
  {
   "cell_type": "code",
   "execution_count": 11,
   "id": "15b0e685",
   "metadata": {
    "id": "15b0e685"
   },
   "outputs": [],
   "source": [
    "import cv2"
   ]
  },
  {
   "cell_type": "code",
   "execution_count": 12,
   "id": "77027ec0",
   "metadata": {
    "id": "77027ec0"
   },
   "outputs": [],
   "source": [
    "# Four corners in source image\n",
    "pts_src = np.array([[684, 530], [728, 529], [685, 574],[728, 572]])\n",
    "\n",
    "# Four corners in destination image\n",
    "pts_dst = np.array([[661, 591],[704, 592],[660, 633],[702, 634]])\n",
    "\n",
    "# Calculate Homography\n",
    "h, status = cv2.findHomography(pts_src, pts_dst)"
   ]
  },
  {
   "cell_type": "code",
   "execution_count": 13,
   "id": "700108ca",
   "metadata": {
    "id": "700108ca",
    "outputId": "9f1a4ff5-2e21-4bfb-ae6a-784a7f2cfe1d"
   },
   "outputs": [
    {
     "data": {
      "text/plain": [
       "array([[ 4.30592128e-01, -2.07816394e-02,  2.00839446e+02],\n",
       "       [-2.06908950e-01,  7.09575758e-01,  1.98508004e+02],\n",
       "       [-4.04476587e-04,  1.77654352e-05,  1.00000000e+00]])"
      ]
     },
     "execution_count": 13,
     "metadata": {},
     "output_type": "execute_result"
    }
   ],
   "source": [
    "h"
   ]
  },
  {
   "cell_type": "markdown",
   "id": "329b6e73",
   "metadata": {
    "id": "40966d85"
   },
   "source": [
    "# Homography\n",
    "\n",
    "## Defining image points\n",
    "\n",
    "\n",
    "xs, ys - coordinates of  source image \n",
    "\n",
    "xd, ys - coordinates of destination image"
   ]
  },
  {
   "cell_type": "code",
   "execution_count": 28,
   "id": "dec55f2a",
   "metadata": {},
   "outputs": [],
   "source": [
    "xs = [684, 728, 686, 728]\n",
    "ys = [530, 529, 574, 572]\n",
    "xd = [661, 704, 660, 702]\n",
    "yd = [590, 592, 633, 634]"
   ]
  },
  {
   "cell_type": "markdown",
   "id": "5b4860b4",
   "metadata": {},
   "source": [
    "\n",
    "$$\\begin{bmatrix} xd \\\\ yd \\\\ 1 \\end{bmatrix} \\equiv  \\begin{bmatrix} xd \\\\ yd \\\\ zd \\end{bmatrix} = \\begin{bmatrix} h_{11} & h_{12} & h_{13} \\\\ h_{21} & h_{22} & h_{23} \\\\ h_{31} & h_{32} & h_{33} \\end{bmatrix} \\begin{bmatrix} xs \\\\ ys \\\\ 1 \\end{bmatrix}$$ \n",
    "\n",
    "Homogeneous Representation: $$ \\frac{xd^{(i)}}{zd^{(i)}} and \\frac{yd^{(i)}}{zd^{(i)}}$$\n",
    "\n",
    "Goal: Solve: A.h=0"
   ]
  },
  {
   "cell_type": "code",
   "execution_count": 43,
   "id": "04b14a9d",
   "metadata": {},
   "outputs": [
    {
     "data": {
      "text/plain": [
       "(array([-452124, -512512, -452760, -511056]),\n",
       " array([-350330, -372416, -378840, -401544]),\n",
       " array([-403560, -430976, -434238, -461552]),\n",
       " array([-312700, -313168, -363342, -362648]))"
      ]
     },
     "execution_count": 43,
     "metadata": {},
     "output_type": "execute_result"
    }
   ],
   "source": [
    "xdxs=-np.multiply(np.array(xd),np.array(xs))\n",
    "xdys =-np.multiply(np.array(xd),np.array(ys)) \n",
    "ydxs=-np.multiply(np.array(yd),np.array(xs))\n",
    "ydys=-np.multiply(np.array(yd),np.array(ys))\n",
    "xdxs, xdys, ydxs, ydys"
   ]
  },
  {
   "cell_type": "code",
   "execution_count": 44,
   "id": "cc84739c",
   "metadata": {},
   "outputs": [
    {
     "data": {
      "text/plain": [
       "array([[    684,     530,       1,       0,       0,       0, -452124,\n",
       "        -350330,    -661],\n",
       "       [      0,       0,       0,     684,     530,       1, -403560,\n",
       "        -312700,    -590],\n",
       "       [    728,     529,       1,       0,       0,       0, -512512,\n",
       "        -372416,    -704],\n",
       "       [      0,       0,       0,     728,     529,       1, -430976,\n",
       "        -313168,    -592],\n",
       "       [    686,     574,       1,       0,       0,       0, -452760,\n",
       "        -378840,    -660],\n",
       "       [      0,       0,       0,     686,     574,       1, -434238,\n",
       "        -363342,    -633],\n",
       "       [    728,     572,       1,       0,       0,       0, -511056,\n",
       "        -401544,    -702],\n",
       "       [      0,       0,       0,     728,     572,       1, -461552,\n",
       "        -362648,    -634]])"
      ]
     },
     "execution_count": 44,
     "metadata": {},
     "output_type": "execute_result"
    }
   ],
   "source": [
    "#Computing for all four points\n",
    "A=[]\n",
    "for i in range(0,4):\n",
    "    mat1 = [xs[i],ys[i],1,0,0,0,xdxs[i],xdys[i],-xd[i]]\n",
    "    mat2 = [0,0,0,xs[i],ys[i],1,ydxs[i],ydys[i],-yd[i]]\n",
    "    A.append(mat1)\n",
    "    A.append(mat2)\n",
    "A = np.array(A)\n",
    "A"
   ]
  },
  {
   "cell_type": "markdown",
   "id": "fc947d90",
   "metadata": {},
   "source": [
    "# Solving for H"
   ]
  },
  {
   "cell_type": "code",
   "execution_count": 45,
   "id": "8a96ad71",
   "metadata": {},
   "outputs": [
    {
     "name": "stdout",
     "output_type": "stream",
     "text": [
      "Homography: [[ 2.95783913e-03 -1.23633536e-03  7.26806249e-01]\n",
      " [ 9.84941133e-05  2.10475926e-03  6.86819450e-01]\n",
      " [-1.93019222e-07 -1.55165163e-06  4.12340350e-03]]\n"
     ]
    }
   ],
   "source": [
    "inner_product = np.dot(A.T,A)\n",
    "w, v = np.linalg.eig(inner_product)\n",
    "v = v.T \n",
    "v_prime = v[-1]\n",
    "h = v_prime.reshape((3,3))\n",
    "print('Homography:', h)"
   ]
  },
  {
   "cell_type": "code",
   "execution_count": null,
   "id": "3c90cdf4",
   "metadata": {},
   "outputs": [],
   "source": []
  }
 ],
 "metadata": {
  "colab": {
   "collapsed_sections": [],
   "name": "HW1_PartA.ipynb",
   "provenance": []
  },
  "kernelspec": {
   "display_name": "Python 3 (ipykernel)",
   "language": "python",
   "name": "python3"
  },
  "language_info": {
   "codemirror_mode": {
    "name": "ipython",
    "version": 3
   },
   "file_extension": ".py",
   "mimetype": "text/x-python",
   "name": "python",
   "nbconvert_exporter": "python",
   "pygments_lexer": "ipython3",
   "version": "3.8.10"
  }
 },
 "nbformat": 4,
 "nbformat_minor": 5
}
