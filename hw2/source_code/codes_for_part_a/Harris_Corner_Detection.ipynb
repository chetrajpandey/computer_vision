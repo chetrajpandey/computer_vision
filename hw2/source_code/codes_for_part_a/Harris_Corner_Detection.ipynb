{
 "cells": [
  {
   "cell_type": "code",
   "execution_count": 6,
   "metadata": {
    "execution": {
     "iopub.execute_input": "2022-04-29T17:59:29.280443Z",
     "iopub.status.busy": "2022-04-29T17:59:29.279543Z",
     "iopub.status.idle": "2022-04-29T17:59:29.286636Z",
     "shell.execute_reply": "2022-04-29T17:59:29.285472Z",
     "shell.execute_reply.started": "2022-04-29T17:59:29.280386Z"
    }
   },
   "outputs": [],
   "source": [
    "import numpy as np\n",
    "import cv2\n",
    "import matplotlib.pyplot as plt\n",
    "import matplotlib.image as mpimg"
   ]
  },
  {
   "cell_type": "markdown",
   "metadata": {},
   "source": [
    "# Harris Corner Detection -- Manually Computed"
   ]
  },
  {
   "cell_type": "markdown",
   "metadata": {},
   "source": [
    "![title](harris.jpg)"
   ]
  },
  {
   "cell_type": "markdown",
   "metadata": {},
   "source": [
    "## Defining Sobel and Gaussian Kernel"
   ]
  },
  {
   "cell_type": "code",
   "execution_count": 7,
   "metadata": {
    "execution": {
     "iopub.execute_input": "2022-04-29T17:59:33.371752Z",
     "iopub.status.busy": "2022-04-29T17:59:33.371309Z",
     "iopub.status.idle": "2022-04-29T17:59:33.383222Z",
     "shell.execute_reply": "2022-04-29T17:59:33.381806Z",
     "shell.execute_reply.started": "2022-04-29T17:59:33.371710Z"
    }
   },
   "outputs": [],
   "source": [
    "#Defining Sobel Kernels X-axis\n",
    "SOBEL_X = np.array((\n",
    "    [-1, 0, 1],\n",
    "    [-2, 0, 2],\n",
    "    [-1, 0, 1]), dtype=\"int32\")\n",
    "\n",
    "# Sobel y-axis kernel\n",
    "SOBEL_Y = np.array((\n",
    "    [-1, -2, -1],\n",
    "    [0, 0, 0],\n",
    "    [1, 2, 1]), dtype=\"int32\")\n",
    "\n",
    "# Gaussian kernel\n",
    "GAUSS = np.array((\n",
    "    [1/16, 2/16, 1/16],\n",
    "    [2/16, 4/16, 2/16],\n",
    "    [1/16, 2/16, 1/16]), dtype=\"float64\")\n"
   ]
  },
  {
   "cell_type": "markdown",
   "metadata": {},
   "source": [
    " ## Implementing convolution function from scratch manually with zero padding"
   ]
  },
  {
   "cell_type": "code",
   "execution_count": 8,
   "metadata": {
    "execution": {
     "iopub.execute_input": "2022-04-29T17:59:37.677589Z",
     "iopub.status.busy": "2022-04-29T17:59:37.677136Z",
     "iopub.status.idle": "2022-04-29T17:59:37.695873Z",
     "shell.execute_reply": "2022-04-29T17:59:37.694283Z",
     "shell.execute_reply.started": "2022-04-29T17:59:37.677547Z"
    }
   },
   "outputs": [],
   "source": [
    "def convolve(img, kernel):\n",
    "    #zero padding\n",
    "    img_height = img.shape[0]\n",
    "    img_width = img.shape[1]\n",
    "    pad_height = kernel.shape[0] // 2\n",
    "    pad_width = kernel.shape[1] // 2\n",
    "    \n",
    "    pad = ((pad_height, pad_height), (pad_height, pad_width))\n",
    "    g = np.empty(img.shape, dtype=np.float64)\n",
    "    img = np.pad(img, pad, mode='constant', constant_values=0)\n",
    "    \n",
    "    # Do convolution\n",
    "    for i in np.arange(pad_height, img_height+pad_height):\n",
    "        for j in np.arange(pad_width, img_width+pad_width):\n",
    "            roi = img[i - pad_height:i + pad_height +\n",
    "                      1, j - pad_width:j + pad_width + 1]\n",
    "            g[i - pad_height, j - pad_width] = (roi*kernel).sum()\n",
    "\n",
    "    if (g.dtype == np.float64):\n",
    "        kernel = kernel / 255.0\n",
    "        kernel = (kernel*255).astype(np.uint8)\n",
    "    else:\n",
    "        g = g + abs(np.amin(g))\n",
    "        g = g / np.amax(g)\n",
    "        g = (g*255.0)\n",
    "    return g"
   ]
  },
  {
   "cell_type": "markdown",
   "metadata": {},
   "source": [
    "## Harris Corner Detection Steps performed in function harris_detect()"
   ]
  },
  {
   "cell_type": "code",
   "execution_count": 9,
   "metadata": {
    "execution": {
     "iopub.execute_input": "2022-04-29T17:59:40.014852Z",
     "iopub.status.busy": "2022-04-29T17:59:40.013968Z",
     "iopub.status.idle": "2022-04-29T17:59:40.028801Z",
     "shell.execute_reply": "2022-04-29T17:59:40.027728Z",
     "shell.execute_reply.started": "2022-04-29T17:59:40.014788Z"
    }
   },
   "outputs": [],
   "source": [
    "def harris_detect(img, threshold, k=0.12):\n",
    "    # copying image\n",
    "    img_copy1 = img.copy() \n",
    "    img_copy2 = img.copy()\n",
    "    \n",
    "    #Steps:\n",
    "    print('Step-Wise Output')\n",
    "    print('Input Image: \\n', img, '\\n')\n",
    "    \n",
    "    # convolving with sobel filter on X-axis\n",
    "    dx = convolve(img_copy1, SOBEL_X) \n",
    "    print('----------X-axis derivative:-------------')\n",
    "    print(dx, '\\n', '\\n')\n",
    "    \n",
    "    # convolving with sobel filter on Y-axis\n",
    "    dy = convolve(img_copy1, SOBEL_Y) \n",
    "    print('----------Y-axis derivative:-------------')\n",
    "    print(dy, '\\n', '\\n')\n",
    "    \n",
    "    # Computing square of derivatives\n",
    "    dx2 = np.square(dx)\n",
    "    print('----------Square of dx-------------')\n",
    "    print(dx2, '\\n', '\\n')   \n",
    "    \n",
    "    dy2 = np.square(dy)\n",
    "    print('----------Square of dy-------------')\n",
    "    print(dy2, '\\n', '\\n')\n",
    "    \n",
    "    #Apply cross multiplication to get diagonal changes\n",
    "    print('----------Diagonal Changes: dx*dy-------------')\n",
    "    dxdy = dx*dy \n",
    "    print(dxdy, '\\n', '\\n')\n",
    "    \n",
    "    # Applying gaussian filter to all the directional changes: x, y, diagonal axis\n",
    "    print('----------Gaussian Filter Outputs on three derivatives-------------')\n",
    "    g_dx2 = convolve(dx2, GAUSS)\n",
    "    \n",
    "    print('Gaussian on dx^2')\n",
    "    print(g_dx2,  '\\n', '\\n')\n",
    "    \n",
    "    g_dy2 = convolve(dy2, GAUSS)\n",
    "    print('Gaussian on dy^2')\n",
    "    print(g_dy2, '\\n', '\\n')\n",
    "    \n",
    "    g_dxdy = convolve(dxdy, GAUSS)\n",
    "    print('Gaussian on dx*dy')\n",
    "    print(g_dx2, '\\n', '\\n')\n",
    "    \n",
    "    # Apply cornerness function or harris function\n",
    "    # r(harris) = det - k*(trace**2)\n",
    "    print('----------Harris Cornerness Function: = det - k*(trace**2)-------------')\n",
    "    harris = g_dx2*g_dy2 - np.square(g_dxdy) - k*np.square(g_dx2 + g_dy2) \n",
    "    print(harris, '\\n', '\\n')\n",
    "    \n",
    "    # Normalizing between (0 to 1)\n",
    "    cv2.normalize(harris, harris, 0, 1, cv2.NORM_MINMAX)\n",
    "\n",
    "    # apply non-maxima supression and find all points above threshold\n",
    "    print('---------Thresholding-------------')\n",
    "    loc = np.where(harris >= threshold)\n",
    "    print('Corner Pixel Locations: ', loc  )\n",
    "    return loc"
   ]
  },
  {
   "cell_type": "markdown",
   "metadata": {},
   "source": [
    "# Image Reading and Filtering Area"
   ]
  },
  {
   "cell_type": "code",
   "execution_count": 12,
   "metadata": {
    "execution": {
     "iopub.execute_input": "2022-04-29T18:00:13.968351Z",
     "iopub.status.busy": "2022-04-29T18:00:13.967932Z"
    }
   },
   "outputs": [
    {
     "name": "stdout",
     "output_type": "stream",
     "text": [
      "[[ 18  18  19  21  20]\n",
      " [ 18  24  16  22  21]\n",
      " [ 17  15  26  21  21]\n",
      " [ 20  18  26 203 200]\n",
      " [ 22  23  20 212 209]]\n"
     ]
    },
    {
     "data": {
      "text/plain": [
       "<matplotlib.image.AxesImage at 0x7fa55c813be0>"
      ]
     },
     "execution_count": 12,
     "metadata": {},
     "output_type": "execute_result"
    },
    {
     "data": {
      "image/png": "[encoded data removed]",
      "text/plain": [
       "<Figure size 432x288 with 1 Axes>"
      ]
     },
     "metadata": {
      "needs_background": "light"
     },
     "output_type": "display_data"
    }
   ],
   "source": [
    "\n",
    "#Already a grayscale image\n",
    "img = mpimg.imread('image_patch/c4.jpg')\n",
    "print(img)\n",
    "fig, ax = plt.subplots()\n",
    "ax.imshow(img, cmap=plt.cm.gray)\n"
   ]
  },
  {
   "cell_type": "markdown",
   "metadata": {},
   "source": [
    "# Outputs: Step-Wise"
   ]
  },
  {
   "cell_type": "code",
   "execution_count": 13,
   "metadata": {},
   "outputs": [
    {
     "name": "stdout",
     "output_type": "stream",
     "text": [
      "Step-Wise Output\n",
      "Input Image: \n",
      " [[ 18  18  19  21  20]\n",
      " [ 18  24  16  22  21]\n",
      " [ 17  15  26  21  21]\n",
      " [ 20  18  26 203 200]\n",
      " [ 22  23  20 212 209]] \n",
      "\n",
      "----------X-axis derivative:-------------\n",
      "[[  60.    0.    4.    7.  -64.]\n",
      " [  81.    6.    5.    6.  -86.]\n",
      " [  72.   22.  195.  169. -267.]\n",
      " [  74.   19.  565.  532. -639.]\n",
      " [  64.    2.  563.  552. -627.]] \n",
      " \n",
      "\n",
      "----------Y-axis derivative:-------------\n",
      "[[  60.   82.   78.   81.   64.]\n",
      " [  -5.    0.   11.    8.    2.]\n",
      " [  -2.    0.  195.  551.  539.]\n",
      " [  18.   15.  187.  564.  567.]\n",
      " [ -58.  -82. -273. -632. -603.]] \n",
      " \n",
      "\n",
      "----------Square of dx-------------\n",
      "[[3.60000e+03 0.00000e+00 1.60000e+01 4.90000e+01 4.09600e+03]\n",
      " [6.56100e+03 3.60000e+01 2.50000e+01 3.60000e+01 7.39600e+03]\n",
      " [5.18400e+03 4.84000e+02 3.80250e+04 2.85610e+04 7.12890e+04]\n",
      " [5.47600e+03 3.61000e+02 3.19225e+05 2.83024e+05 4.08321e+05]\n",
      " [4.09600e+03 4.00000e+00 3.16969e+05 3.04704e+05 3.93129e+05]] \n",
      " \n",
      "\n",
      "----------Square of dy-------------\n",
      "[[3.60000e+03 6.72400e+03 6.08400e+03 6.56100e+03 4.09600e+03]\n",
      " [2.50000e+01 0.00000e+00 1.21000e+02 6.40000e+01 4.00000e+00]\n",
      " [4.00000e+00 0.00000e+00 3.80250e+04 3.03601e+05 2.90521e+05]\n",
      " [3.24000e+02 2.25000e+02 3.49690e+04 3.18096e+05 3.21489e+05]\n",
      " [3.36400e+03 6.72400e+03 7.45290e+04 3.99424e+05 3.63609e+05]] \n",
      " \n",
      "\n",
      "----------Diagonal Changes: dx*dy-------------\n",
      "[[ 3.60000e+03  0.00000e+00  3.12000e+02  5.67000e+02 -4.09600e+03]\n",
      " [-4.05000e+02  0.00000e+00  5.50000e+01  4.80000e+01 -1.72000e+02]\n",
      " [-1.44000e+02  0.00000e+00  3.80250e+04  9.31190e+04 -1.43913e+05]\n",
      " [ 1.33200e+03  2.85000e+02  1.05655e+05  3.00048e+05 -3.62313e+05]\n",
      " [-3.71200e+03 -1.64000e+02 -1.53699e+05 -3.48864e+05  3.78081e+05]] \n",
      " \n",
      "\n",
      "----------Gaussian Filter Outputs on three derivatives-------------\n",
      "Gaussian on dx^2\n",
      "[[1.72237500e+03 8.68125000e+02 1.77500000e+01 9.94562500e+02\n",
      "  1.95687500e+03]\n",
      " [2.77300000e+03 3.81931250e+03 6.58875000e+03 1.16020000e+04\n",
      "  1.30647500e+04]\n",
      " [2.88593750e+03 2.62771875e+04 7.07591875e+04 1.02122438e+05\n",
      "  9.10482500e+04]\n",
      " [2.60462500e+03 6.35060000e+04 1.80463188e+05 2.54570625e+05\n",
      "  2.16339562e+05]\n",
      " [1.73156250e+03 6.04730625e+04 1.74945438e+05 2.45787875e+05\n",
      "  2.05099375e+05]] \n",
      " \n",
      "\n",
      "Gaussian on dy^2\n",
      "[[1.74362500e+03 2.90062500e+03 3.20075000e+03 2.92856250e+03\n",
      "  1.84862500e+03]\n",
      " [8.77000000e+02 3.84081250e+03 2.53572500e+04 5.99722500e+04\n",
      "  5.62212500e+04]\n",
      " [5.86875000e+01 6.99668750e+03 7.17416875e+04 1.79024938e+05\n",
      "  1.70652000e+05]\n",
      " [9.50375000e+02 1.25535000e+04 1.06960938e+05 2.59877125e+05\n",
      "  2.45839562e+05]\n",
      " [1.73606250e+03 1.36515625e+04 9.36669375e+04 2.16663875e+05\n",
      "  2.00897375e+05]] \n",
      " \n",
      "\n",
      "Gaussian on dx*dy\n",
      "[[1.72237500e+03 8.68125000e+02 1.77500000e+01 9.94562500e+02\n",
      "  1.95687500e+03]\n",
      " [2.77300000e+03 3.81931250e+03 6.58875000e+03 1.16020000e+04\n",
      "  1.30647500e+04]\n",
      " [2.88593750e+03 2.62771875e+04 7.07591875e+04 1.02122438e+05\n",
      "  9.10482500e+04]\n",
      " [2.60462500e+03 6.35060000e+04 1.80463188e+05 2.54570625e+05\n",
      "  2.16339562e+05]\n",
      " [1.73156250e+03 6.04730625e+04 1.74945438e+05 2.45787875e+05\n",
      "  2.05099375e+05]] \n",
      " \n",
      "\n",
      "----------Harris Cornerness Function: = det - k*(trace**2)-------------\n",
      "[[ 8.40159499e+05  5.95482125e+05 -1.21143732e+06  9.55131453e+05\n",
      "   9.35653276e+05]\n",
      " [ 7.23825438e+05  1.03173229e+06 -6.91832715e+07  5.74955773e+07\n",
      "  -2.40154714e+06]\n",
      " [-8.80672357e+05 -7.97769113e+07 -1.83585155e+08  7.80449067e+09\n",
      "   4.72902601e+09]\n",
      " [ 9.43524344e+05  6.75727039e+07  8.26662496e+09  3.40609386e+10\n",
      "   2.59688071e+10]\n",
      " [ 9.79187411e+05 -2.65506086e+06  5.22072844e+09  2.61684144e+10\n",
      "   2.08297273e+10]] \n",
      " \n",
      "\n",
      "---------Thresholding-------------\n",
      "Corner Pixel Locations:  (array([3]), array([3]))\n",
      "(array([3]), array([3]))\n"
     ]
    }
   ],
   "source": [
    "loc = harris_detect(img, 0.85)\n",
    "print(loc)"
   ]
  },
  {
   "cell_type": "code",
   "execution_count": 14,
   "metadata": {},
   "outputs": [
    {
     "data": {
      "image/png": "[encoded data removed]",
      "text/plain": [
       "<Figure size 432x288 with 1 Axes>"
      ]
     },
     "metadata": {
      "needs_background": "light"
     },
     "output_type": "display_data"
    }
   ],
   "source": [
    "fig, ax = plt.subplots()\n",
    "ax.imshow(img, cmap=plt.cm.gray)\n",
    "ax.plot(loc[1], loc[0], color='red', marker='+',\n",
    "        linestyle='None', markersize=10)\n",
    "plt.show()"
   ]
  }
 ],
 "metadata": {
  "kernelspec": {
   "display_name": "Python 3 (ipykernel)",
   "language": "python",
   "name": "python3"
  },
  "language_info": {
   "codemirror_mode": {
    "name": "ipython",
    "version": 3
   },
   "file_extension": ".py",
   "mimetype": "text/x-python",
   "name": "python",
   "nbconvert_exporter": "python",
   "pygments_lexer": "ipython3",
   "version": "3.8.10"
  }
 },
 "nbformat": 4,
 "nbformat_minor": 4
}
