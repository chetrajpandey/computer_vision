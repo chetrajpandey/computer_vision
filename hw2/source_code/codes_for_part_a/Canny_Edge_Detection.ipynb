{
 "cells": [
  {
   "cell_type": "code",
   "execution_count": 1,
   "id": "7f3fd8f9",
   "metadata": {},
   "outputs": [],
   "source": [
    "import numpy as np\n",
    "import matplotlib.pyplot as plt \n",
    "import matplotlib.image as mpimg\n",
    "import os"
   ]
  },
  {
   "cell_type": "markdown",
   "id": "b8c46cba",
   "metadata": {},
   "source": [
    "# Canny Edge Detection -- Manually Computed"
   ]
  },
  {
   "cell_type": "markdown",
   "id": "83970e17",
   "metadata": {},
   "source": [
    "![title](edge_de.jpg)"
   ]
  },
  {
   "cell_type": "markdown",
   "id": "4a46a816",
   "metadata": {},
   "source": [
    "# Read Image"
   ]
  },
  {
   "cell_type": "code",
   "execution_count": 2,
   "id": "46e440cb",
   "metadata": {},
   "outputs": [
    {
     "name": "stdout",
     "output_type": "stream",
     "text": [
      "[[ 28  39  32  87 199]\n",
      " [ 30  39  32  89 202]\n",
      " [ 32  39  32  93 206]\n",
      " [ 32  40  34  94 206]\n",
      " [ 28  40  35  92 202]]\n"
     ]
    },
    {
     "data": {
      "text/plain": [
       "<matplotlib.image.AxesImage at 0x7fdbe8f9c7f0>"
      ]
     },
     "execution_count": 2,
     "metadata": {},
     "output_type": "execute_result"
    },
    {
     "data": {
      "image/png": "[encoded data removed]",
      "text/plain": [
       "<Figure size 432x288 with 1 Axes>"
      ]
     },
     "metadata": {
      "needs_background": "light"
     },
     "output_type": "display_data"
    }
   ],
   "source": [
    "img = mpimg.imread('image_patch/e4.jpg')\n",
    "print(img)\n",
    "plt.imshow(img, 'gray')"
   ]
  },
  {
   "cell_type": "markdown",
   "id": "a40933e7",
   "metadata": {},
   "source": [
    "## Functions to compute each steps defined below sequentially"
   ]
  },
  {
   "cell_type": "code",
   "execution_count": 3,
   "id": "d46a1ad0",
   "metadata": {},
   "outputs": [],
   "source": [
    "def convolve(img, kernel):\n",
    "\n",
    "    img_height = img.shape[0]\n",
    "    img_width = img.shape[1]\n",
    "    pad_height = kernel.shape[0] // 2\n",
    "    pad_width = kernel.shape[1] // 2\n",
    "    \n",
    "    pad = ((pad_height, pad_height), (pad_height, pad_width))\n",
    "    g = np.empty(img.shape, dtype=np.float64)\n",
    "    img = np.pad(img, pad, mode='constant', constant_values=0)\n",
    "    # Do convolution\n",
    "    for i in np.arange(pad_height, img_height+pad_height):\n",
    "        for j in np.arange(pad_width, img_width+pad_width):\n",
    "            roi = img[i - pad_height:i + pad_height +\n",
    "                      1, j - pad_width:j + pad_width + 1]\n",
    "            g[i - pad_height, j - pad_width] = (roi*kernel).sum()\n",
    "\n",
    "    if (g.dtype == np.float64):\n",
    "        kernel = kernel / 255.0\n",
    "        kernel = (kernel*255).astype(np.uint8)\n",
    "    else:\n",
    "        g = g + abs(np.amin(g))\n",
    "        g = g / np.amax(g)\n",
    "        g = (g*255.0)\n",
    "    return g"
   ]
  },
  {
   "cell_type": "code",
   "execution_count": 4,
   "id": "efecc3a3",
   "metadata": {},
   "outputs": [],
   "source": [
    "def gaussian_kernel(size, sigma=0.5):\n",
    "    size = int(size) // 2\n",
    "    x, y = np.mgrid[-size:size+1, -size:size+1]\n",
    "    normal = 1 / (2.0 * np.pi * sigma**2)\n",
    "    g =  np.exp(-((x**2 + y**2) / (2.0*sigma**2))) * normal\n",
    "    return g\n",
    "\n",
    "g = gaussian_kernel(3)"
   ]
  },
  {
   "cell_type": "code",
   "execution_count": 5,
   "id": "9677e506",
   "metadata": {},
   "outputs": [],
   "source": [
    "# from scipy.ndimage.filters import convolve\n",
    "def sobel_filters(img):\n",
    "    Kx = np.array([[-1, 0, 1], [-2, 0, 2], [-1, 0, 1]], np.float32)\n",
    "    Ky = np.array([[1, 2, 1], [0, 0, 0], [-1, -2, -1]], np.float32)\n",
    "    Ix = convolve(img, Kx)\n",
    "    Iy = convolve(img, Ky)\n",
    "    \n",
    "    G = np.hypot(Ix, Iy)\n",
    "    G = G / G.max() * 255 \n",
    "    theta = np.arctan2(Iy, Ix)\n",
    "    \n",
    "    return (G, theta)"
   ]
  },
  {
   "cell_type": "code",
   "execution_count": 6,
   "id": "30e545f6",
   "metadata": {},
   "outputs": [],
   "source": [
    "def non_max_suppression(img, D):\n",
    "    M, N = img.shape\n",
    "    Z = np.zeros((M,N), dtype=np.int32)\n",
    "    angle = D * 180. / np.pi\n",
    "    angle[angle < 0] += 180\n",
    "\n",
    "    \n",
    "    for i in range(1,M-1):\n",
    "        for j in range(1,N-1):\n",
    "            try:\n",
    "                q = 255\n",
    "                r = 255\n",
    "                \n",
    "               #angle 0\n",
    "                if (0 <= angle[i,j] < 22.5) or (157.5 <= angle[i,j] <= 180):\n",
    "                    q = img[i, j+1]\n",
    "                    r = img[i, j-1]\n",
    "                #angle 45\n",
    "                elif (22.5 <= angle[i,j] < 67.5):\n",
    "                    q = img[i+1, j-1]\n",
    "                    r = img[i-1, j+1]\n",
    "                #angle 90\n",
    "                elif (67.5 <= angle[i,j] < 112.5):\n",
    "                    q = img[i+1, j]\n",
    "                    r = img[i-1, j]\n",
    "                #angle 135\n",
    "                elif (112.5 <= angle[i,j] < 157.5):\n",
    "                    q = img[i-1, j-1]\n",
    "                    r = img[i+1, j+1]\n",
    "\n",
    "                if (img[i,j] >= q) and (img[i,j] >= r):\n",
    "                    Z[i,j] = img[i,j]\n",
    "                else:\n",
    "                    Z[i,j] = 0\n",
    "\n",
    "            except IndexError as e:\n",
    "                pass\n",
    "    \n",
    "    return Z"
   ]
  },
  {
   "cell_type": "code",
   "execution_count": 7,
   "id": "0b93e370",
   "metadata": {},
   "outputs": [],
   "source": [
    "def threshold(img, lowThresholdRatio=0.05, highThresholdRatio=0.09):\n",
    "    \n",
    "    highThreshold = img.max() * highThresholdRatio;\n",
    "    lowThreshold = highThreshold * lowThresholdRatio;\n",
    "    \n",
    "    M, N = img.shape\n",
    "    res = np.zeros((M,N), dtype=np.int32)\n",
    "    \n",
    "    weak = np.int32(25)\n",
    "    strong = np.int32(255)\n",
    "    \n",
    "    strong_i, strong_j = np.where(img >= highThreshold)\n",
    "    zeros_i, zeros_j = np.where(img < lowThreshold)\n",
    "    \n",
    "    weak_i, weak_j = np.where((img <= highThreshold) & (img >= lowThreshold))\n",
    "    \n",
    "    res[strong_i, strong_j] = strong\n",
    "    res[weak_i, weak_j] = weak\n",
    "    \n",
    "    return (res, weak, strong)"
   ]
  },
  {
   "cell_type": "code",
   "execution_count": 8,
   "id": "dc2d14e6",
   "metadata": {},
   "outputs": [],
   "source": [
    "def hysteresis(img, weak, strong=255):\n",
    "    M, N = img.shape  \n",
    "    for i in range(1, M-1):\n",
    "        for j in range(1, N-1):\n",
    "            if (img[i,j] == weak):\n",
    "                try:\n",
    "                    if ((img[i+1, j-1] == strong) or (img[i+1, j] == strong) or (img[i+1, j+1] == strong)\n",
    "                        or (img[i, j-1] == strong) or (img[i, j+1] == strong)\n",
    "                        or (img[i-1, j-1] == strong) or (img[i-1, j] == strong) or (img[i-1, j+1] == strong)):\n",
    "                        img[i, j] = strong\n",
    "                    else:\n",
    "                        img[i, j] = 0\n",
    "                except IndexError as e:\n",
    "                    pass\n",
    "    return img"
   ]
  },
  {
   "cell_type": "markdown",
   "id": "d3c082dc",
   "metadata": {},
   "source": [
    "# Step1: Output after applying Gaussian Kernel"
   ]
  },
  {
   "cell_type": "code",
   "execution_count": 9,
   "id": "69927ed9",
   "metadata": {},
   "outputs": [
    {
     "name": "stdout",
     "output_type": "stream",
     "text": [
      "[[ 24.22493853  34.08065179  35.47714976  85.6846606  152.62449028]\n",
      " [ 28.53763541  38.33601967  39.92230447  97.79679216 173.25762753]\n",
      " [ 29.99484928  38.64113141  40.48588756 101.00467156 176.44218674]\n",
      " [ 29.90869217  39.43840532  42.04091865 101.9975799  176.55166405]\n",
      " [ 24.49506998  35.10854043  38.1462266   89.88544834 155.36806414]]\n"
     ]
    },
    {
     "data": {
      "text/plain": [
       "<matplotlib.image.AxesImage at 0x7fdbe6edc580>"
      ]
     },
     "execution_count": 9,
     "metadata": {},
     "output_type": "execute_result"
    },
    {
     "data": {
      "image/png": "[encoded data removed]",
      "text/plain": [
       "<Figure size 432x288 with 1 Axes>"
      ]
     },
     "metadata": {
      "needs_background": "light"
     },
     "output_type": "display_data"
    }
   ],
   "source": [
    "smoothed_img = convolve(img, gaussian_kernel(3))\n",
    "print(smoothed_img)\n",
    "plt.imshow(smoothed_img, 'gray')"
   ]
  },
  {
   "cell_type": "markdown",
   "id": "8f2e34f0",
   "metadata": {},
   "source": [
    "# Step2: Sobel Operation to Compute Gradient and Slope"
   ]
  },
  {
   "cell_type": "code",
   "execution_count": 10,
   "id": "c4c4733d",
   "metadata": {},
   "outputs": [
    {
     "name": "stdout",
     "output_type": "stream",
     "text": [
      "---------Gradients------------------\n",
      " [[ 64.9949999   67.74511062 122.90429673 249.90093865 236.1340412 ]\n",
      " [ 68.30093148  22.16329718 106.72968973 237.80725169 176.10919083]\n",
      " [ 70.50345571  20.3921768  112.24390427 245.43034896 182.70772159]\n",
      " [ 69.69089828  23.022892   110.46997801 238.27380823 181.12280929]\n",
      " [ 67.2311872   70.86349709 128.9536358  255.         243.30810674]]\n",
      "\n",
      "------------------Slope----------------\n",
      " [[-0.73054705 -1.34140128 -0.92526632 -0.83834108 -2.11547271]\n",
      " [-0.10735651 -0.42040278 -0.12768018 -0.11391294 -2.97837489]\n",
      " [-0.02478907 -0.12727621 -0.03864546 -0.02558775 -3.11474803]\n",
      " [ 0.09492764  0.29869271  0.07962668  0.08720124  3.00750849]\n",
      " [ 0.73565878  1.31506453  0.9189068   0.85305276  2.12516632]]\n"
     ]
    }
   ],
   "source": [
    "grad, slope = sobel_filters(smoothed_img)\n",
    "print('---------Gradients------------------\\n',grad)\n",
    "print('\\n------------------Slope----------------\\n', slope)"
   ]
  },
  {
   "cell_type": "markdown",
   "id": "816d896c",
   "metadata": {},
   "source": [
    "# Step3: Non-Maximum Supression"
   ]
  },
  {
   "cell_type": "code",
   "execution_count": 11,
   "id": "0e8b1eef",
   "metadata": {},
   "outputs": [
    {
     "name": "stdout",
     "output_type": "stream",
     "text": [
      "[[  0   0   0   0   0]\n",
      " [  0   0   0 237   0]\n",
      " [  0   0   0 245   0]\n",
      " [  0   0   0 238   0]\n",
      " [  0   0   0   0   0]]\n"
     ]
    },
    {
     "data": {
      "text/plain": [
       "<matplotlib.image.AxesImage at 0x7fdbe6ebeb80>"
      ]
     },
     "execution_count": 11,
     "metadata": {},
     "output_type": "execute_result"
    },
    {
     "data": {
      "image/png": "[encoded data removed]",
      "text/plain": [
       "<Figure size 432x288 with 1 Axes>"
      ]
     },
     "metadata": {
      "needs_background": "light"
     },
     "output_type": "display_data"
    }
   ],
   "source": [
    "non_max_img = non_max_suppression(grad, slope)\n",
    "print(non_max_img)\n",
    "plt.imshow(non_max_img, 'gray')"
   ]
  },
  {
   "cell_type": "markdown",
   "id": "5c77f46b",
   "metadata": {},
   "source": [
    "# Step4: Double Thresholding"
   ]
  },
  {
   "cell_type": "code",
   "execution_count": 12,
   "id": "d8ff185e",
   "metadata": {},
   "outputs": [
    {
     "name": "stdout",
     "output_type": "stream",
     "text": [
      "[[  0   0   0   0   0]\n",
      " [  0   0   0 255   0]\n",
      " [  0   0   0 255   0]\n",
      " [  0   0   0 255   0]\n",
      " [  0   0   0   0   0]]\n"
     ]
    },
    {
     "data": {
      "text/plain": [
       "<matplotlib.image.AxesImage at 0x7fdbe6e23280>"
      ]
     },
     "execution_count": 12,
     "metadata": {},
     "output_type": "execute_result"
    },
    {
     "data": {
      "image/png": "[encoded data removed]",
      "text/plain": [
       "<Figure size 432x288 with 1 Axes>"
      ]
     },
     "metadata": {
      "needs_background": "light"
     },
     "output_type": "display_data"
    }
   ],
   "source": [
    "thres_img, weak, strong = threshold(non_max_img) \n",
    "print(thres_img)\n",
    "plt.imshow(thres_img, 'gray')"
   ]
  },
  {
   "cell_type": "markdown",
   "id": "e93f66e4",
   "metadata": {},
   "source": [
    "# Step 5: Final Output with Hysterisis"
   ]
  },
  {
   "cell_type": "code",
   "execution_count": 13,
   "id": "dffd56ea",
   "metadata": {},
   "outputs": [
    {
     "name": "stdout",
     "output_type": "stream",
     "text": [
      "[[  0   0   0   0   0]\n",
      " [  0   0   0 255   0]\n",
      " [  0   0   0 255   0]\n",
      " [  0   0   0 255   0]\n",
      " [  0   0   0   0   0]]\n"
     ]
    },
    {
     "data": {
      "text/plain": [
       "<matplotlib.image.AxesImage at 0x7fdbe6df7850>"
      ]
     },
     "execution_count": 13,
     "metadata": {},
     "output_type": "execute_result"
    },
    {
     "data": {
      "image/png": "[encoded data removed]",
      "text/plain": [
       "<Figure size 432x288 with 1 Axes>"
      ]
     },
     "metadata": {
      "needs_background": "light"
     },
     "output_type": "display_data"
    }
   ],
   "source": [
    "final_image = hysteresis(thres_img, weak)\n",
    "print(final_image)\n",
    "plt.imshow(final_image, 'gray')"
   ]
  }
 ],
 "metadata": {
  "kernelspec": {
   "display_name": "Python 3 (ipykernel)",
   "language": "python",
   "name": "python3"
  },
  "language_info": {
   "codemirror_mode": {
    "name": "ipython",
    "version": 3
   },
   "file_extension": ".py",
   "mimetype": "text/x-python",
   "name": "python",
   "nbconvert_exporter": "python",
   "pygments_lexer": "ipython3",
   "version": "3.8.10"
  }
 },
 "nbformat": 4,
 "nbformat_minor": 5
}
